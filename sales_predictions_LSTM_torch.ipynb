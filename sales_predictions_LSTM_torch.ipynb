{
 "cells": [
  {
   "cell_type": "code",
   "execution_count": 59,
   "metadata": {},
   "outputs": [],
   "source": [
    "import torch\n",
    "import torch.nn as nn\n",
    "import numpy as np\n",
    "import pandas as pd\n",
    "import matplotlib.pyplot as plt\n",
    "import pickle"
   ]
  },
  {
   "cell_type": "code",
   "execution_count": 60,
   "metadata": {},
   "outputs": [],
   "source": [
    "# load pickle files\n",
    "\n",
    "with open('data_sales/train_data.pkl', 'rb') as file:\n",
    "    train_data = pickle.load(file)\n",
    "    \n",
    "with open('data_sales/test_data.pkl', 'rb') as file:\n",
    "    test_data = pickle.load(file)"
   ]
  },
  {
   "cell_type": "code",
   "execution_count": 61,
   "metadata": {},
   "outputs": [
    {
     "name": "stdout",
     "output_type": "stream",
     "text": [
      "(16648987, 14)\n"
     ]
    }
   ],
   "source": [
    "# Columns (left to right): shop_id, item_id, item_price, item_category, sales counts at 10 time points\n",
    "\n",
    "print(train_data.shape)"
   ]
  },
  {
   "cell_type": "code",
   "execution_count": 62,
   "metadata": {},
   "outputs": [],
   "source": [
    "# dataset and dataloader\n",
    "\n",
    "train_inputs = np.expand_dims(train_data[:, :13], -1)\n",
    "train_outputs = (train_data[:, 13:])\n",
    "\n",
    "test_inputs = np.expand_dims(test_data[:, :13], -1)\n",
    "test_outputs = (test_data[:, 13:])\n",
    "\n",
    "from torch.utils.data import TensorDataset, DataLoader\n",
    "\n",
    "train_set = TensorDataset(torch.Tensor(train_inputs), torch.Tensor(train_outputs))\n",
    "test_set = TensorDataset(torch.Tensor(test_inputs), torch.Tensor(test_outputs))\n",
    "\n",
    "train_loader = DataLoader(train_set, batch_size=32, shuffle=True, num_workers=4)\n",
    "test_loader = DataLoader(test_set, batch_size=32, shuffle=True, num_workers=4)"
   ]
  },
  {
   "cell_type": "code",
   "execution_count": 63,
   "metadata": {},
   "outputs": [],
   "source": [
    "class sales_LSTM(nn.Module):\n",
    "    \n",
    "    def __init__(self, num_lin_features, seq_len):\n",
    "        super(sales_LSTM, self).__init__()\n",
    "        \n",
    "        # SELF VARIABLES\n",
    "        self.num_LSTM = 1 # num of LSTM layers\n",
    "        self.num_hidden = 10 # num of hidden states retained\n",
    "        self.seq_len = seq_len # length of sequences passed in\n",
    "        self.num_lin_features = num_lin_features # number of linear (non-time-series) inputs\n",
    "        \n",
    "        # Layers\n",
    "        self.lstm = nn.LSTM(input_size=1, hidden_size=self.num_hidden, num_layers=self.num_LSTM, batch_first=True) # LSTM layer for sales series data\n",
    "        self.fc1 = nn.Linear(num_lin_features, 64) # Initial dense layer for ids, price, item cat.\n",
    "        self.fc2 = nn.Linear(self.num_hidden*self.seq_len+64, 1) # Final fc layer for output\n",
    "        \n",
    "    # Forward pass given input vector x of size [batch_size, 14]\n",
    "    def forward(self, x):\n",
    "        batch_size, seq_len, _ = x.size()\n",
    "        lstm_out, self.hidden = self.lstm(x[:, self.num_lin_features:, :]) # pass time series sales counts into lstm\n",
    "        lstm_out = lstm_out.contiguous().view(batch_size, -1) # change shape to (batch_size, seq_len * num_hidden)\n",
    "        lin1_out = self.fc1(np.reshape(x[:, :self.num_lin_features, :], (batch_size, 4))) # run non-time-series features through fc layer\n",
    "        x = torch.cat((lstm_out, lin1_out), dim=1) # concatenate outputs into single [batch_size, x] tensor\n",
    "        x = self.fc2(x) # run everything through final fc layer\n",
    "        return x\n",
    "        \n",
    "    # init hidden and cell states\n",
    "    def init_hidden(self, batch_size):\n",
    "        temp_state = torch.zeros(self.num_LSTM, batch_size, self.num_hidden)\n",
    "        self.hidden = (temp_state, temp_state)"
   ]
  },
  {
   "cell_type": "code",
   "execution_count": 64,
   "metadata": {},
   "outputs": [],
   "source": [
    "net = sales_LSTM(4, 9)\n",
    "loss_function = nn.MSELoss()\n",
    "optimizer = torch.optim.Adam(net.parameters(), lr=0.001)"
   ]
  },
  {
   "cell_type": "code",
   "execution_count": 65,
   "metadata": {},
   "outputs": [
    {
     "name": "stdout",
     "output_type": "stream",
     "text": [
      "sales_LSTM(\n",
      "  (lstm): LSTM(1, 10, batch_first=True)\n",
      "  (fc1): Linear(in_features=4, out_features=64, bias=True)\n",
      "  (fc2): Linear(in_features=154, out_features=1, bias=True)\n",
      ")\n"
     ]
    }
   ],
   "source": [
    "print(net)"
   ]
  },
  {
   "cell_type": "code",
   "execution_count": 68,
   "metadata": {},
   "outputs": [
    {
     "name": "stdout",
     "output_type": "stream",
     "text": [
      "Accuracy for epoch 0: tensor(0.0001)%\n",
      "Accuracy for epoch 1: tensor(9.0096e-05)%\n",
      "Accuracy for epoch 2: tensor(0.0002)%\n"
     ]
    }
   ],
   "source": [
    "# training loop\n",
    "\n",
    "import random\n",
    "\n",
    "epochs = 3\n",
    "\n",
    "for epoch in range(epochs):\n",
    "    \n",
    "    num_correct = 0\n",
    "    \n",
    "    for i, data in enumerate(train_loader, 0):\n",
    "        \n",
    "        inputs, labels = data\n",
    "        optimizer.zero_grad() # zero gradient vector\n",
    "        \n",
    "        # net.init_hidden(32)\n",
    "        outputs = net(inputs)\n",
    "        loss = loss_function(outputs, labels)\n",
    "        loss.backward()\n",
    "        optimizer.step()\n",
    "        num_correct += (outputs == labels).float().sum()\n",
    "        \n",
    "    # accuracy for epoch\n",
    "    acc = (num_correct / len(train_data)) * 100\n",
    "    print('Accuracy for epoch ' + str(epoch) + ': ' + str(acc) + '%')"
   ]
  },
  {
   "cell_type": "code",
   "execution_count": 69,
   "metadata": {},
   "outputs": [],
   "source": [
    "# save state dict\n",
    "\n",
    "torch.save(net.state_dict(), 'trained_models/sales_predictor.pt')"
   ]
  },
  {
   "cell_type": "code",
   "execution_count": null,
   "metadata": {},
   "outputs": [],
   "source": []
  }
 ],
 "metadata": {
  "kernelspec": {
   "display_name": "Python 3",
   "language": "python",
   "name": "python3"
  },
  "language_info": {
   "codemirror_mode": {
    "name": "ipython",
    "version": 3
   },
   "file_extension": ".py",
   "mimetype": "text/x-python",
   "name": "python",
   "nbconvert_exporter": "python",
   "pygments_lexer": "ipython3",
   "version": "3.8.3"
  }
 },
 "nbformat": 4,
 "nbformat_minor": 4
}
